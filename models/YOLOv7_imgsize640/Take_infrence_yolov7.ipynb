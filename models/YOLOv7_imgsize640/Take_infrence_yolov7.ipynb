{
 "cells": [
  {
   "cell_type": "code",
   "execution_count": null,
   "metadata": {
    "id": "d5XYv_uqfFen"
   },
   "outputs": [],
   "source": [
    "#clone YOLOv7 and \n",
    "!git clone https://github.com/WongKinYiu/yolov7  # clone repo\n",
    "%cd yolov7\n",
    "%pip install -qr requirements.txt # install dependencies\n",
    "%pip install -q roboflow\n",
    "\n",
    "import torch\n",
    "import os\n",
    "from IPython.display import Image, clear_output  # to display images\n",
    "\n",
    "print(f\"Setup complete. Using torch {torch.__version__} ({torch.cuda.get_device_properties(0).name if torch.cuda.is_available() else 'CPU'})\")"
   ]
  },
  {
   "cell_type": "code",
   "execution_count": null,
   "metadata": {
    "id": "ZUiunyfH8xiy"
   },
   "outputs": [],
   "source": [
    "## image size 640 x 640\n",
    "from roboflow import Roboflow\n",
    "rf = Roboflow(api_key=\"wM8oWAPG8TZirTrzo38g\")\n",
    "project = rf.workspace(\"sayeh-faraz-dzv2y\").project(\"waste-recycling\")\n",
    "dataset = project.version(3).download(\"yolov7\")"
   ]
  },
  {
   "cell_type": "code",
   "execution_count": null,
   "metadata": {
    "id": "gnPETD77cT8C"
   },
   "outputs": [],
   "source": [
    "from google.colab import drive\n",
    "drive.mount('/content/drive/')"
   ]
  },
  {
   "cell_type": "code",
   "execution_count": null,
   "metadata": {
    "id": "2jjT5uIHo6l5"
   },
   "outputs": [],
   "source": [
    "# # # make hub\n",
    "\n",
    "# model = torch.hub.load('/content/yolov7', 'custom', '/content/yolov7/best.pt')\n",
    "# model = model.half().to(device)\n"
   ]
  },
  {
   "cell_type": "code",
   "execution_count": null,
   "metadata": {
    "id": "CBeHgpsZfq_J"
   },
   "outputs": [],
   "source": [
    "##The below snippet redirects output(stdout) to a file called Output.txt.\n",
    "\n",
    "import sys\n",
    "temp = sys.stdout\n",
    "sys.stdout = f =  open('/content/yolov7/yolov7_GPU.txt', 'w')\n",
    "!python detect.py --weights /content/yolov7/best.pt --img 640 --conf 0.1 --source /content/yolov7/waste-recycling-3/test/images --device 0\n",
    "sys.stdout = temp\n",
    "# f.close()"
   ]
  },
  {
   "cell_type": "markdown",
   "metadata": {
    "id": "U6-fiqAy9r2B"
   },
   "source": [
    "**Half** **precision**"
   ]
  },
  {
   "cell_type": "code",
   "execution_count": null,
   "metadata": {
    "id": "_cTJs3w6mOg8"
   },
   "outputs": [],
   "source": [
    "# import torch\n",
    "import sys\n",
    "temp = sys.stdout\n",
    "sys.stdout = f =  open('/content/yolov7/yolov7_halfPrecision.txt', 'w')\n",
    "\n",
    "torch.cuda.current_device()\n",
    "!python detect.py --weights /content/yolov7/best.pt --img 640 --conf 0.1 --source /content/yolov7/waste-recycling-3/test/images --device 0 --fp16 \n",
    "sys.stdout = temp"
   ]
  }
 ],
 "metadata": {
  "accelerator": "GPU",
  "colab": {
   "provenance": []
  },
  "gpuClass": "premium",
  "kernelspec": {
   "display_name": "Python 3 (ipykernel)",
   "language": "python",
   "name": "python3"
  },
  "language_info": {
   "codemirror_mode": {
    "name": "ipython",
    "version": 3
   },
   "file_extension": ".py",
   "mimetype": "text/x-python",
   "name": "python",
   "nbconvert_exporter": "python",
   "pygments_lexer": "ipython3",
   "version": "3.7.3"
  }
 },
 "nbformat": 4,
 "nbformat_minor": 1
}
